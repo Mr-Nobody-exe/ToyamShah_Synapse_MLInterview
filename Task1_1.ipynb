{
  "nbformat": 4,
  "nbformat_minor": 0,
  "metadata": {
    "colab": {
      "provenance": [],
      "authorship_tag": "ABX9TyNkk9VYhLhECnyAMutdGktR",
      "include_colab_link": true
    },
    "kernelspec": {
      "name": "python3",
      "display_name": "Python 3"
    },
    "language_info": {
      "name": "python"
    }
  },
  "cells": [
    {
      "cell_type": "markdown",
      "metadata": {
        "id": "view-in-github",
        "colab_type": "text"
      },
      "source": [
        "<a href=\"https://colab.research.google.com/github/Mr-Nobody-exe/ToyamShah_Synapse_MLInterview/blob/main/Task1_1.ipynb\" target=\"_parent\"><img src=\"https://colab.research.google.com/assets/colab-badge.svg\" alt=\"Open In Colab\"/></a>"
      ]
    },
    {
      "cell_type": "code",
      "execution_count": null,
      "metadata": {
        "id": "vyUSaVJww3uU"
      },
      "outputs": [],
      "source": [
        "from itertools import combinations\n",
        "##importing lib"
      ]
    },
    {
      "cell_type": "code",
      "source": [
        "pokedex = {\n",
        "    \"Pikachu\": (\"Electric\",),\n",
        "    \"Charizard\": (\"Fire\", \"Flying\"),\n",
        "    \"Lapras\": (\"Water\", \"Ice\"),\n",
        "    \"Machamp\": (\"Fighting\",),\n",
        "    \"Mewtwo\": (\"Psychic\", \"Fighting\"),\n",
        "    \"Hoopa\": (\"Psychic\", \"Ghost\", \"Dark\"),\n",
        "    \"Lugia\": (\"Psychic\", \"Flying\", \"Water\"),\n",
        "    \"Squirtle\": (\"Water\",),\n",
        "    \"Gengar\": (\"Ghost\", \"Poison\"),\n",
        "    \"Onix\": (\"Rock\", \"Ground\"),\n",
        "}\n",
        "#hardcoding pokedex"
      ],
      "metadata": {
        "id": "XWE7Q0oIyBXg"
      },
      "execution_count": null,
      "outputs": []
    },
    {
      "cell_type": "code",
      "source": [
        "def strongest_team(pokedex,k):\n",
        "  max_types = 0\n",
        "  best_team = None\n",
        "  best_types = set()\n",
        "  #declaring\n",
        "\n",
        "  for team in combinations(pokedex.keys(), k):\n",
        "    #iterating over comibnations of k items\n",
        "    types = set()\n",
        "\n",
        "    for pokemon in team:\n",
        "      types.update(pokedex[pokemon])\n",
        "\n",
        "      if len(types) > max_types:\n",
        "        max_types = len(types)\n",
        "        best_team = team\n",
        "        best_types = types\n",
        "\n",
        "  return max_types, best_team, best_types\n",
        "\n",
        "#brute forcing over all possible combinations and returning best sol(greedy)"
      ],
      "metadata": {
        "id": "zX2OBx5zyShn"
      },
      "execution_count": null,
      "outputs": []
    },
    {
      "cell_type": "code",
      "source": [
        "k = 3\n",
        "max_types, best_team, best_types = strongest_team(pokedex, k)\n",
        "\n",
        "print(f\"Best team of {k} Pokémon covers {max_types} types:\")\n",
        "print(f\"Team: {best_team}, Types: {best_types}\")\n",
        "#output"
      ],
      "metadata": {
        "colab": {
          "base_uri": "https://localhost:8080/"
        },
        "id": "spxc6pwIzlql",
        "outputId": "c001d12e-a406-44d8-d0d5-0b449e88191c"
      },
      "execution_count": null,
      "outputs": [
        {
          "output_type": "stream",
          "name": "stdout",
          "text": [
            "Best team of 3 Pokémon covers 7 types:\n",
            "Team: ('Charizard', 'Lapras', 'Hoopa'), Types: {'Dark', 'Water', 'Fire', 'Psychic', 'Flying', 'Ice', 'Ghost'}\n"
          ]
        }
      ]
    }
  ]
}