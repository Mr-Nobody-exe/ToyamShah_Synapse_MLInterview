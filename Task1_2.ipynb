{
  "nbformat": 4,
  "nbformat_minor": 0,
  "metadata": {
    "colab": {
      "provenance": [],
      "authorship_tag": "ABX9TyPMVwp9e7Zqy/QviInedSaU",
      "include_colab_link": true
    },
    "kernelspec": {
      "name": "python3",
      "display_name": "Python 3"
    },
    "language_info": {
      "name": "python"
    }
  },
  "cells": [
    {
      "cell_type": "markdown",
      "metadata": {
        "id": "view-in-github",
        "colab_type": "text"
      },
      "source": [
        "<a href=\"https://colab.research.google.com/github/Mr-Nobody-exe/ToyamShah_Synapse_MLInterview/blob/main/Task1_2.ipynb\" target=\"_parent\"><img src=\"https://colab.research.google.com/assets/colab-badge.svg\" alt=\"Open In Colab\"/></a>"
      ]
    },
    {
      "cell_type": "code",
      "execution_count": 1,
      "metadata": {
        "id": "rJ7DMvyF0q_H"
      },
      "outputs": [],
      "source": [
        "def earliest_step(runes: str)->int:\n",
        "\n",
        "  target = set(\"lumos\")\n",
        "  #declaring set for target\n",
        "  collected = set()\n",
        "  #creating empty set\n",
        "\n",
        "  for i,ch in enumerate(runes,start=1):\n",
        "    if ch.lower() in target:\n",
        "      collected.add(ch.lower())\n",
        "      if collected == target:\n",
        "        #comparing\n",
        "        return i\n",
        "\n",
        "  return -1"
      ]
    },
    {
      "cell_type": "code",
      "source": [
        "print(earliest_step(\"luLMoS\"))\n",
        "print(earliest_step(\"xLxaUabMzzzOqS\"))\n",
        "print(earliest_step(\"hello world\"))"
      ],
      "metadata": {
        "colab": {
          "base_uri": "https://localhost:8080/"
        },
        "id": "zYtfn16r3X9Q",
        "outputId": "69dae186-d937-4d62-9b5e-c97e63d2af70"
      },
      "execution_count": 2,
      "outputs": [
        {
          "output_type": "stream",
          "name": "stdout",
          "text": [
            "6\n",
            "14\n",
            "-1\n"
          ]
        }
      ]
    }
  ]
}